{
 "cells": [
  {
   "cell_type": "code",
   "execution_count": 2,
   "id": "f8f6c4fb",
   "metadata": {},
   "outputs": [],
   "source": [
    "import pandas as pd\n",
    "import plotly.express as px\n",
    "import plotly.io as pio\n",
    "pio.renderers.default = 'browser'"
   ]
  },
  {
   "cell_type": "code",
   "execution_count": 3,
   "id": "3ef5ce2b",
   "metadata": {},
   "outputs": [],
   "source": [
    "df = pd.read_csv(r\"C:\\Users\\cauai\\Desktop\\repos\\repo\\aya-case\\aya-case\\data\\raw\\dados_appsflyer.csv\")"
   ]
  },
  {
   "cell_type": "code",
   "execution_count": 5,
   "id": "8f1d636d",
   "metadata": {},
   "outputs": [
    {
     "data": {
      "text/html": [
       "<div>\n",
       "<style scoped>\n",
       "    .dataframe tbody tr th:only-of-type {\n",
       "        vertical-align: middle;\n",
       "    }\n",
       "\n",
       "    .dataframe tbody tr th {\n",
       "        vertical-align: top;\n",
       "    }\n",
       "\n",
       "    .dataframe thead th {\n",
       "        text-align: right;\n",
       "    }\n",
       "</style>\n",
       "<table border=\"1\" class=\"dataframe\">\n",
       "  <thead>\n",
       "    <tr style=\"text-align: right;\">\n",
       "      <th></th>\n",
       "      <th>usuario_id</th>\n",
       "      <th>data_instalacao</th>\n",
       "      <th>fonte_midia</th>\n",
       "      <th>custo</th>\n",
       "      <th>plataforma</th>\n",
       "      <th>versao_app</th>\n",
       "      <th>marca</th>\n",
       "      <th>modelo</th>\n",
       "      <th>canal</th>\n",
       "    </tr>\n",
       "  </thead>\n",
       "  <tbody>\n",
       "    <tr>\n",
       "      <th>0</th>\n",
       "      <td>dcdff191-8e4f-4672-aa21-61ddd6e16b65</td>\n",
       "      <td>2025-01-14 17:47:08</td>\n",
       "      <td>Orgânico</td>\n",
       "      <td>0.000000</td>\n",
       "      <td>Android</td>\n",
       "      <td>1.1</td>\n",
       "      <td>LG</td>\n",
       "      <td>Wing</td>\n",
       "      <td>mms</td>\n",
       "    </tr>\n",
       "    <tr>\n",
       "      <th>1</th>\n",
       "      <td>5d5dfeaa-bb0c-4766-ad94-7135abe976f8</td>\n",
       "      <td>2025-03-21 11:19:42</td>\n",
       "      <td>Orgânico</td>\n",
       "      <td>0.000000</td>\n",
       "      <td>iOS</td>\n",
       "      <td>1.1</td>\n",
       "      <td>Apple</td>\n",
       "      <td>iPhone 12</td>\n",
       "      <td>email</td>\n",
       "    </tr>\n",
       "    <tr>\n",
       "      <th>2</th>\n",
       "      <td>f081b639-9f96-415a-b139-a37336b25350</td>\n",
       "      <td>2025-03-09 19:15:05</td>\n",
       "      <td>Facebook Ads</td>\n",
       "      <td>4.838845</td>\n",
       "      <td>iOS</td>\n",
       "      <td>2.0</td>\n",
       "      <td>Apple</td>\n",
       "      <td>iPhone 13</td>\n",
       "      <td>sms</td>\n",
       "    </tr>\n",
       "    <tr>\n",
       "      <th>3</th>\n",
       "      <td>0ea9d453-5d0a-409c-ae9d-a5804bcabb76</td>\n",
       "      <td>2025-01-29 04:05:52</td>\n",
       "      <td>Orgânico</td>\n",
       "      <td>0.000000</td>\n",
       "      <td>iOS</td>\n",
       "      <td>1.0</td>\n",
       "      <td>Apple</td>\n",
       "      <td>iPhone 12</td>\n",
       "      <td>push</td>\n",
       "    </tr>\n",
       "    <tr>\n",
       "      <th>4</th>\n",
       "      <td>a1da2ac0-2c8c-459e-88a7-99207549a541</td>\n",
       "      <td>2025-03-15 05:39:23</td>\n",
       "      <td>Facebook Ads</td>\n",
       "      <td>4.941831</td>\n",
       "      <td>iOS</td>\n",
       "      <td>1.2</td>\n",
       "      <td>Apple</td>\n",
       "      <td>iPhone 12</td>\n",
       "      <td>mms</td>\n",
       "    </tr>\n",
       "  </tbody>\n",
       "</table>\n",
       "</div>"
      ],
      "text/plain": [
       "                             usuario_id      data_instalacao   fonte_midia  \\\n",
       "0  dcdff191-8e4f-4672-aa21-61ddd6e16b65  2025-01-14 17:47:08      Orgânico   \n",
       "1  5d5dfeaa-bb0c-4766-ad94-7135abe976f8  2025-03-21 11:19:42      Orgânico   \n",
       "2  f081b639-9f96-415a-b139-a37336b25350  2025-03-09 19:15:05  Facebook Ads   \n",
       "3  0ea9d453-5d0a-409c-ae9d-a5804bcabb76  2025-01-29 04:05:52      Orgânico   \n",
       "4  a1da2ac0-2c8c-459e-88a7-99207549a541  2025-03-15 05:39:23  Facebook Ads   \n",
       "\n",
       "      custo plataforma  versao_app  marca     modelo  canal  \n",
       "0  0.000000    Android         1.1     LG       Wing    mms  \n",
       "1  0.000000        iOS         1.1  Apple  iPhone 12  email  \n",
       "2  4.838845        iOS         2.0  Apple  iPhone 13    sms  \n",
       "3  0.000000        iOS         1.0  Apple  iPhone 12   push  \n",
       "4  4.941831        iOS         1.2  Apple  iPhone 12    mms  "
      ]
     },
     "execution_count": 5,
     "metadata": {},
     "output_type": "execute_result"
    }
   ],
   "source": [
    "df.head()"
   ]
  },
  {
   "cell_type": "code",
   "execution_count": 7,
   "id": "fab5c9ee",
   "metadata": {},
   "outputs": [
    {
     "data": {
      "text/plain": [
       "usuario_id          object\n",
       "data_instalacao     object\n",
       "fonte_midia         object\n",
       "custo              float64\n",
       "plataforma          object\n",
       "versao_app         float64\n",
       "marca               object\n",
       "modelo              object\n",
       "canal               object\n",
       "dtype: object"
      ]
     },
     "execution_count": 7,
     "metadata": {},
     "output_type": "execute_result"
    }
   ],
   "source": [
    "df.dtypes"
   ]
  },
  {
   "cell_type": "code",
   "execution_count": null,
   "id": "5a96e4c5",
   "metadata": {},
   "outputs": [
    {
     "data": {
      "text/html": [
       "<div>\n",
       "<style scoped>\n",
       "    .dataframe tbody tr th:only-of-type {\n",
       "        vertical-align: middle;\n",
       "    }\n",
       "\n",
       "    .dataframe tbody tr th {\n",
       "        vertical-align: top;\n",
       "    }\n",
       "\n",
       "    .dataframe thead th {\n",
       "        text-align: right;\n",
       "    }\n",
       "</style>\n",
       "<table border=\"1\" class=\"dataframe\">\n",
       "  <thead>\n",
       "    <tr style=\"text-align: right;\">\n",
       "      <th></th>\n",
       "      <th>custo</th>\n",
       "      <th>versao_app</th>\n",
       "    </tr>\n",
       "  </thead>\n",
       "  <tbody>\n",
       "    <tr>\n",
       "      <th>count</th>\n",
       "      <td>1000.000000</td>\n",
       "      <td>1000.000000</td>\n",
       "    </tr>\n",
       "    <tr>\n",
       "      <th>mean</th>\n",
       "      <td>1.799172</td>\n",
       "      <td>1.326900</td>\n",
       "    </tr>\n",
       "    <tr>\n",
       "      <th>std</th>\n",
       "      <td>1.696431</td>\n",
       "      <td>0.399482</td>\n",
       "    </tr>\n",
       "    <tr>\n",
       "      <th>min</th>\n",
       "      <td>0.000000</td>\n",
       "      <td>1.000000</td>\n",
       "    </tr>\n",
       "    <tr>\n",
       "      <th>25%</th>\n",
       "      <td>0.000000</td>\n",
       "      <td>1.000000</td>\n",
       "    </tr>\n",
       "    <tr>\n",
       "      <th>50%</th>\n",
       "      <td>1.508761</td>\n",
       "      <td>1.200000</td>\n",
       "    </tr>\n",
       "    <tr>\n",
       "      <th>75%</th>\n",
       "      <td>3.302689</td>\n",
       "      <td>2.000000</td>\n",
       "    </tr>\n",
       "    <tr>\n",
       "      <th>max</th>\n",
       "      <td>4.999194</td>\n",
       "      <td>2.000000</td>\n",
       "    </tr>\n",
       "  </tbody>\n",
       "</table>\n",
       "</div>"
      ],
      "text/plain": [
       "             custo   versao_app\n",
       "count  1000.000000  1000.000000\n",
       "mean      1.799172     1.326900\n",
       "std       1.696431     0.399482\n",
       "min       0.000000     1.000000\n",
       "25%       0.000000     1.000000\n",
       "50%       1.508761     1.200000\n",
       "75%       3.302689     2.000000\n",
       "max       4.999194     2.000000"
      ]
     },
     "execution_count": 4,
     "metadata": {},
     "output_type": "execute_result"
    }
   ],
   "source": [
    "df.describe()"
   ]
  },
  {
   "cell_type": "code",
   "execution_count": 8,
   "id": "f7cfb06e",
   "metadata": {},
   "outputs": [
    {
     "data": {
      "text/plain": [
       "usuario_id         0\n",
       "data_instalacao    0\n",
       "fonte_midia        0\n",
       "custo              0\n",
       "plataforma         0\n",
       "versao_app         0\n",
       "marca              0\n",
       "modelo             0\n",
       "canal              0\n",
       "dtype: int64"
      ]
     },
     "execution_count": 8,
     "metadata": {},
     "output_type": "execute_result"
    }
   ],
   "source": [
    "df.isnull().sum()\n"
   ]
  },
  {
   "cell_type": "code",
   "execution_count": 9,
   "id": "1de2210d",
   "metadata": {},
   "outputs": [
    {
     "data": {
      "text/plain": [
       "np.int64(0)"
      ]
     },
     "execution_count": 9,
     "metadata": {},
     "output_type": "execute_result"
    }
   ],
   "source": [
    "df.duplicated().sum()"
   ]
  },
  {
   "cell_type": "code",
   "execution_count": 11,
   "id": "bd76faaa",
   "metadata": {},
   "outputs": [
    {
     "data": {
      "text/plain": [
       "fonte_midia\n",
       "Google Ads      341\n",
       "Facebook Ads    335\n",
       "Orgânico        324\n",
       "Name: count, dtype: int64"
      ]
     },
     "execution_count": 11,
     "metadata": {},
     "output_type": "execute_result"
    }
   ],
   "source": [
    "df['fonte_midia'].value_counts()"
   ]
  },
  {
   "cell_type": "code",
   "execution_count": null,
   "id": "2016c6ed",
   "metadata": {},
   "outputs": [
    {
     "data": {
      "text/html": [
       "<div>\n",
       "<style scoped>\n",
       "    .dataframe tbody tr th:only-of-type {\n",
       "        vertical-align: middle;\n",
       "    }\n",
       "\n",
       "    .dataframe tbody tr th {\n",
       "        vertical-align: top;\n",
       "    }\n",
       "\n",
       "    .dataframe thead th {\n",
       "        text-align: right;\n",
       "    }\n",
       "</style>\n",
       "<table border=\"1\" class=\"dataframe\">\n",
       "  <thead>\n",
       "    <tr style=\"text-align: right;\">\n",
       "      <th></th>\n",
       "      <th>sum</th>\n",
       "      <th>mean</th>\n",
       "    </tr>\n",
       "    <tr>\n",
       "      <th>fonte_midia</th>\n",
       "      <th></th>\n",
       "      <th></th>\n",
       "    </tr>\n",
       "  </thead>\n",
       "  <tbody>\n",
       "    <tr>\n",
       "      <th>Facebook Ads</th>\n",
       "      <td>839.890253</td>\n",
       "      <td>2.507135</td>\n",
       "    </tr>\n",
       "    <tr>\n",
       "      <th>Google Ads</th>\n",
       "      <td>959.282134</td>\n",
       "      <td>2.813144</td>\n",
       "    </tr>\n",
       "    <tr>\n",
       "      <th>Orgânico</th>\n",
       "      <td>0.000000</td>\n",
       "      <td>0.000000</td>\n",
       "    </tr>\n",
       "  </tbody>\n",
       "</table>\n",
       "</div>"
      ],
      "text/plain": [
       "                     sum      mean\n",
       "fonte_midia                       \n",
       "Facebook Ads  839.890253  2.507135\n",
       "Google Ads    959.282134  2.813144\n",
       "Orgânico        0.000000  0.000000"
      ]
     },
     "execution_count": 12,
     "metadata": {},
     "output_type": "execute_result"
    }
   ],
   "source": [
    "#Custo total e médio por fonte de mídia\n",
    "df.groupby('fonte_midia')['custo'].agg(['sum', 'mean'])"
   ]
  },
  {
   "cell_type": "code",
   "execution_count": null,
   "id": "93e37fbe",
   "metadata": {},
   "outputs": [
    {
     "data": {
      "text/plain": [
       "canal\n",
       "email    511.024824\n",
       "sms      483.103275\n",
       "push     403.124729\n",
       "mms      401.919560\n",
       "Name: custo, dtype: float64"
      ]
     },
     "execution_count": 13,
     "metadata": {},
     "output_type": "execute_result"
    }
   ],
   "source": [
    "#custo total por canal\n",
    "df.groupby('canal')['custo'].sum().sort_values(ascending=False)\n"
   ]
  },
  {
   "cell_type": "code",
   "execution_count": 15,
   "id": "6fbdc1dc",
   "metadata": {},
   "outputs": [
    {
     "data": {
      "text/plain": [
       "plataforma\n",
       "Android    506\n",
       "iOS        494\n",
       "Name: count, dtype: int64"
      ]
     },
     "execution_count": 15,
     "metadata": {},
     "output_type": "execute_result"
    }
   ],
   "source": [
    "#Instalação por plataforma\n",
    "df['plataforma'].value_counts()\n"
   ]
  },
  {
   "cell_type": "code",
   "execution_count": 17,
   "id": "67b13884",
   "metadata": {},
   "outputs": [
    {
     "data": {
      "text/html": [
       "<div>\n",
       "<style scoped>\n",
       "    .dataframe tbody tr th:only-of-type {\n",
       "        vertical-align: middle;\n",
       "    }\n",
       "\n",
       "    .dataframe tbody tr th {\n",
       "        vertical-align: top;\n",
       "    }\n",
       "\n",
       "    .dataframe thead th {\n",
       "        text-align: right;\n",
       "    }\n",
       "</style>\n",
       "<table border=\"1\" class=\"dataframe\">\n",
       "  <thead>\n",
       "    <tr style=\"text-align: right;\">\n",
       "      <th></th>\n",
       "      <th>custo</th>\n",
       "      <th>usuario_id</th>\n",
       "      <th>CPA</th>\n",
       "    </tr>\n",
       "    <tr>\n",
       "      <th>canal</th>\n",
       "      <th></th>\n",
       "      <th></th>\n",
       "      <th></th>\n",
       "    </tr>\n",
       "  </thead>\n",
       "  <tbody>\n",
       "    <tr>\n",
       "      <th>email</th>\n",
       "      <td>511.024824</td>\n",
       "      <td>279</td>\n",
       "      <td>1.831630</td>\n",
       "    </tr>\n",
       "    <tr>\n",
       "      <th>mms</th>\n",
       "      <td>401.919560</td>\n",
       "      <td>232</td>\n",
       "      <td>1.732412</td>\n",
       "    </tr>\n",
       "    <tr>\n",
       "      <th>push</th>\n",
       "      <td>403.124729</td>\n",
       "      <td>234</td>\n",
       "      <td>1.722755</td>\n",
       "    </tr>\n",
       "    <tr>\n",
       "      <th>sms</th>\n",
       "      <td>483.103275</td>\n",
       "      <td>255</td>\n",
       "      <td>1.894523</td>\n",
       "    </tr>\n",
       "  </tbody>\n",
       "</table>\n",
       "</div>"
      ],
      "text/plain": [
       "            custo  usuario_id       CPA\n",
       "canal                                  \n",
       "email  511.024824         279  1.831630\n",
       "mms    401.919560         232  1.732412\n",
       "push   403.124729         234  1.722755\n",
       "sms    483.103275         255  1.894523"
      ]
     },
     "execution_count": 17,
     "metadata": {},
     "output_type": "execute_result"
    }
   ],
   "source": [
    "#Custo por aquisição\n",
    "cpa_por_canal = df.groupby('canal').agg({'custo': 'sum', 'usuario_id': 'count'})\n",
    "cpa_por_canal['CPA'] = cpa_por_canal['custo'] / cpa_por_canal['usuario_id']\n",
    "cpa_por_canal"
   ]
  },
  {
   "cell_type": "code",
   "execution_count": null,
   "id": "02dc77a7",
   "metadata": {},
   "outputs": [],
   "source": []
  }
 ],
 "metadata": {
  "kernelspec": {
   "display_name": ".venv",
   "language": "python",
   "name": "python3"
  },
  "language_info": {
   "codemirror_mode": {
    "name": "ipython",
    "version": 3
   },
   "file_extension": ".py",
   "mimetype": "text/x-python",
   "name": "python",
   "nbconvert_exporter": "python",
   "pygments_lexer": "ipython3",
   "version": "3.13.3"
  }
 },
 "nbformat": 4,
 "nbformat_minor": 5
}
